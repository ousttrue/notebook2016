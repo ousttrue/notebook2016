{
 "cells": [
  {
   "cell_type": "markdown",
   "metadata": {},
   "source": [
    "# IPythonことはじめ\n",
    "\n",
    "## Install\n",
    "\n",
    "Windowsでやる。\n",
    "普通のPythonだとnumpy等のライブラリを揃えるのが大変なので、\n",
    "付属ライブラリが添付されているAnacondaパッケージを使う。\n",
    "\n",
    "https://www.continuum.io/downloads\n",
    "\n",
    "python3.5(64bit)を選んでみた。\n",
    "\n",
    "## 起動する\n",
    "gitで作業ディレクトリを作って、そこでnotebookを起動する。\n",
    "カレントディレクトリが作業領域になるのでC:\\から実行したりすると404って言われるというのもある。\n",
    "\n",
    "```\n",
    "> mkdir notebook2016\n",
    "> cd notebook2016\n",
    "notebook2016> C:\\Anaconda3\\Scripts\\ipython.exe notebook\n",
    "```\n",
    "\n",
    "## コードを書く\n",
    "右上の__new__を押して__python3__を選択して新しいnoteを始める。\n",
    "入力欄のボックスひとつがセルと呼ばれている。\n",
    "適当にコードを書いて__shift+enter__でセルを確定。\n",
    "実行結果が表示される。\n",
    "実行結果でダブルクリックすると再度編集モードになる。\n",
    "\n",
    "## Markdownも書ける\n",
    "画面上部のpulldownを__Code__から__Markdown__に変更するとセルにMarkdownを書ける。\n",
    "これをMarkdownで書いてみた。\n",
    "\n",
    "## githubにpushしてみる\n",
    "\n",
    "```\n",
    "notebook2016> git nite\n",
    "notebook2016> .ipynb_checkpoints > .gitignore\n",
    "notebook2016> git add .\n",
    "notebook2016> git commit -m init\n",
    "notebook2016> @rem git remote origin を設定した\n",
    "notebook2016> git push origin master\n",
    "```\n"
   ]
  },
  {
   "cell_type": "code",
   "execution_count": null,
   "metadata": {
    "collapsed": true
   },
   "outputs": [],
   "source": []
  }
 ],
 "metadata": {
  "kernelspec": {
   "display_name": "Python 3",
   "language": "python",
   "name": "python3"
  },
  "language_info": {
   "codemirror_mode": {
    "name": "ipython",
    "version": 3
   },
   "file_extension": ".py",
   "mimetype": "text/x-python",
   "name": "python",
   "nbconvert_exporter": "python",
   "pygments_lexer": "ipython3",
   "version": "3.5.1"
  }
 },
 "nbformat": 4,
 "nbformat_minor": 0
}
